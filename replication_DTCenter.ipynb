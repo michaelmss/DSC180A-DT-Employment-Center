{
 "cells": [
  {
   "cell_type": "code",
   "execution_count": 36,
   "metadata": {},
   "outputs": [],
   "source": [
    "import pandas as pd"
   ]
  },
  {
   "cell_type": "code",
   "execution_count": 37,
   "metadata": {},
   "outputs": [],
   "source": [
    "downtown = pd.read_csv('dt_data.csv')"
   ]
  },
  {
   "cell_type": "code",
   "execution_count": 38,
   "metadata": {},
   "outputs": [],
   "source": [
    "region = pd.read_csv('region_data.csv')"
   ]
  },
  {
   "cell_type": "markdown",
   "metadata": {},
   "source": [
    "Table 1\n",
    "CNS 1 - 20"
   ]
  },
  {
   "cell_type": "code",
   "execution_count": 45,
   "metadata": {},
   "outputs": [],
   "source": [
    "job_categories = ['Agriculture, Forestry, Fishing and Hunting',\n",
    "                 'Mining, Quarrying, and Oil and Gas Extraction',\n",
    "                 'Utilities','Construction','Manufacturing','Wholesale Trade',\n",
    "                  'Retail Trade','Transportation and Warehousing','Information',\n",
    "                  'Finance and Insurance','Real Estate and Rental and Leasing',\n",
    "                  'Professional, Scientific, and Technical Services','Management of Companies and Enterprises',\n",
    "                  'Administrative and Support and Waste Management and Remediation Services',\n",
    "                  'Educational Services','Health Care and Social Assistance','Arts, Entertainment, and Recreation',\n",
    "                  'Accommodation and Food Services','Other Services except Public Administration',\n",
    "                  'Public Administration']"
   ]
  },
  {
   "cell_type": "code",
   "execution_count": 46,
   "metadata": {},
   "outputs": [
    {
     "data": {
      "text/plain": [
       "20"
      ]
     },
     "execution_count": 46,
     "metadata": {},
     "output_type": "execute_result"
    }
   ],
   "source": [
    "len(job_categories)"
   ]
  },
  {
   "cell_type": "code",
   "execution_count": 47,
   "metadata": {},
   "outputs": [
    {
     "name": "stdout",
     "output_type": "stream",
     "text": [
      "{'CNS01': 48, 'CNS02': 0, 'CNS03': 2056, 'CNS04': 5460, 'CNS05': 6960, 'CNS06': 2968, 'CNS07': 7060, 'CNS08': 25788, 'CNS09': 8884, 'CNS10': 14972, 'CNS11': 7168, 'CNS12': 57964, 'CNS13': 3412, 'CNS14': 12552, 'CNS15': 7948, 'CNS16': 15880, 'CNS17': 3744, 'CNS18': 41664, 'CNS19': 10388, 'CNS20': 58376}\n"
     ]
    }
   ],
   "source": [
    "# Create an empty dictionary to store the sums\n",
    "column_sums = {}\n",
    "\n",
    "# Loop through the column names from \"CNS01\" to \"CNS20\"\n",
    "for column_name in [f'CNS{i:02d}' for i in range(1, 21)]:\n",
    "    column_sum = downtown[column_name].sum()\n",
    "    column_sums[column_name] = column_sum\n",
    "\n",
    "# Now, column_sums is a dictionary where keys are column names like \"CNS01\", \"CNS02\", ..., \"CNS20\",\n",
    "# and values are the sums of the respective columns\n",
    "print(column_sums)"
   ]
  },
  {
   "cell_type": "code",
   "execution_count": 56,
   "metadata": {},
   "outputs": [],
   "source": [
    "column_sums_df = pd.DataFrame.from_dict(column_sums, orient='index', columns=['Sum'])\n",
    "column_sums_df.index = job_categories\n",
    "column_sums_df = column_sums_df.rename(columns={\"Sum\": \"Total jobs\"})"
   ]
  },
  {
   "cell_type": "code",
   "execution_count": 58,
   "metadata": {},
   "outputs": [
    {
     "data": {
      "text/plain": [
       "293292"
      ]
     },
     "execution_count": 58,
     "metadata": {},
     "output_type": "execute_result"
    }
   ],
   "source": [
    "total_jobs = column_sums_df['Total jobs'].sum()\n",
    "total_jobs"
   ]
  },
  {
   "cell_type": "code",
   "execution_count": 78,
   "metadata": {},
   "outputs": [],
   "source": [
    "column_sums_df['% of jobs'] = (column_sums_df['Total jobs'] / total_jobs * 100).apply(lambda x: f'{x:.2f}%')"
   ]
  },
  {
   "cell_type": "code",
   "execution_count": 79,
   "metadata": {},
   "outputs": [
    {
     "data": {
      "text/html": [
       "<div>\n",
       "<style scoped>\n",
       "    .dataframe tbody tr th:only-of-type {\n",
       "        vertical-align: middle;\n",
       "    }\n",
       "\n",
       "    .dataframe tbody tr th {\n",
       "        vertical-align: top;\n",
       "    }\n",
       "\n",
       "    .dataframe thead th {\n",
       "        text-align: right;\n",
       "    }\n",
       "</style>\n",
       "<table border=\"1\" class=\"dataframe\">\n",
       "  <thead>\n",
       "    <tr style=\"text-align: right;\">\n",
       "      <th></th>\n",
       "      <th>Total jobs</th>\n",
       "      <th>% of jobs</th>\n",
       "    </tr>\n",
       "  </thead>\n",
       "  <tbody>\n",
       "    <tr>\n",
       "      <th>Agriculture, Forestry, Fishing and Hunting</th>\n",
       "      <td>48</td>\n",
       "      <td>0.02%</td>\n",
       "    </tr>\n",
       "    <tr>\n",
       "      <th>Mining, Quarrying, and Oil and Gas Extraction</th>\n",
       "      <td>0</td>\n",
       "      <td>0.00%</td>\n",
       "    </tr>\n",
       "    <tr>\n",
       "      <th>Utilities</th>\n",
       "      <td>2056</td>\n",
       "      <td>0.70%</td>\n",
       "    </tr>\n",
       "    <tr>\n",
       "      <th>Construction</th>\n",
       "      <td>5460</td>\n",
       "      <td>1.86%</td>\n",
       "    </tr>\n",
       "    <tr>\n",
       "      <th>Manufacturing</th>\n",
       "      <td>6960</td>\n",
       "      <td>2.37%</td>\n",
       "    </tr>\n",
       "    <tr>\n",
       "      <th>Wholesale Trade</th>\n",
       "      <td>2968</td>\n",
       "      <td>1.01%</td>\n",
       "    </tr>\n",
       "    <tr>\n",
       "      <th>Retail Trade</th>\n",
       "      <td>7060</td>\n",
       "      <td>2.41%</td>\n",
       "    </tr>\n",
       "    <tr>\n",
       "      <th>Transportation and Warehousing</th>\n",
       "      <td>25788</td>\n",
       "      <td>8.79%</td>\n",
       "    </tr>\n",
       "    <tr>\n",
       "      <th>Information</th>\n",
       "      <td>8884</td>\n",
       "      <td>3.03%</td>\n",
       "    </tr>\n",
       "    <tr>\n",
       "      <th>Finance and Insurance</th>\n",
       "      <td>14972</td>\n",
       "      <td>5.10%</td>\n",
       "    </tr>\n",
       "    <tr>\n",
       "      <th>Real Estate and Rental and Leasing</th>\n",
       "      <td>7168</td>\n",
       "      <td>2.44%</td>\n",
       "    </tr>\n",
       "    <tr>\n",
       "      <th>Professional, Scientific, and Technical Services</th>\n",
       "      <td>57964</td>\n",
       "      <td>19.76%</td>\n",
       "    </tr>\n",
       "    <tr>\n",
       "      <th>Management of Companies and Enterprises</th>\n",
       "      <td>3412</td>\n",
       "      <td>1.16%</td>\n",
       "    </tr>\n",
       "    <tr>\n",
       "      <th>Administrative and Support and Waste Management and Remediation Services</th>\n",
       "      <td>12552</td>\n",
       "      <td>4.28%</td>\n",
       "    </tr>\n",
       "    <tr>\n",
       "      <th>Educational Services</th>\n",
       "      <td>7948</td>\n",
       "      <td>2.71%</td>\n",
       "    </tr>\n",
       "    <tr>\n",
       "      <th>Health Care and Social Assistance</th>\n",
       "      <td>15880</td>\n",
       "      <td>5.41%</td>\n",
       "    </tr>\n",
       "    <tr>\n",
       "      <th>Arts, Entertainment, and Recreation</th>\n",
       "      <td>3744</td>\n",
       "      <td>1.28%</td>\n",
       "    </tr>\n",
       "    <tr>\n",
       "      <th>Accommodation and Food Services</th>\n",
       "      <td>41664</td>\n",
       "      <td>14.21%</td>\n",
       "    </tr>\n",
       "    <tr>\n",
       "      <th>Other Services except Public Administration</th>\n",
       "      <td>10388</td>\n",
       "      <td>3.54%</td>\n",
       "    </tr>\n",
       "    <tr>\n",
       "      <th>Public Administration</th>\n",
       "      <td>58376</td>\n",
       "      <td>19.90%</td>\n",
       "    </tr>\n",
       "  </tbody>\n",
       "</table>\n",
       "</div>"
      ],
      "text/plain": [
       "                                                    Total jobs % of jobs\n",
       "Agriculture, Forestry, Fishing and Hunting                  48     0.02%\n",
       "Mining, Quarrying, and Oil and Gas Extraction                0     0.00%\n",
       "Utilities                                                 2056     0.70%\n",
       "Construction                                              5460     1.86%\n",
       "Manufacturing                                             6960     2.37%\n",
       "Wholesale Trade                                           2968     1.01%\n",
       "Retail Trade                                              7060     2.41%\n",
       "Transportation and Warehousing                           25788     8.79%\n",
       "Information                                               8884     3.03%\n",
       "Finance and Insurance                                    14972     5.10%\n",
       "Real Estate and Rental and Leasing                        7168     2.44%\n",
       "Professional, Scientific, and Technical Services         57964    19.76%\n",
       "Management of Companies and Enterprises                   3412     1.16%\n",
       "Administrative and Support and Waste Management...       12552     4.28%\n",
       "Educational Services                                      7948     2.71%\n",
       "Health Care and Social Assistance                        15880     5.41%\n",
       "Arts, Entertainment, and Recreation                       3744     1.28%\n",
       "Accommodation and Food Services                          41664    14.21%\n",
       "Other Services except Public Administration              10388     3.54%\n",
       "Public Administration                                    58376    19.90%"
      ]
     },
     "execution_count": 79,
     "metadata": {},
     "output_type": "execute_result"
    }
   ],
   "source": [
    "column_sums_df"
   ]
  },
  {
   "cell_type": "code",
   "execution_count": null,
   "metadata": {},
   "outputs": [],
   "source": []
  }
 ],
 "metadata": {
  "kernelspec": {
   "display_name": "Python 3",
   "language": "python",
   "name": "python3"
  },
  "language_info": {
   "codemirror_mode": {
    "name": "ipython",
    "version": 3
   },
   "file_extension": ".py",
   "mimetype": "text/x-python",
   "name": "python",
   "nbconvert_exporter": "python",
   "pygments_lexer": "ipython3",
   "version": "3.8.5"
  }
 },
 "nbformat": 4,
 "nbformat_minor": 4
}
