{
 "cells": [
  {
   "cell_type": "code",
   "execution_count": 1,
   "metadata": {},
   "outputs": [],
   "source": [
    "import pandas as pd"
   ]
  },
  {
   "cell_type": "code",
   "execution_count": 3,
   "metadata": {},
   "outputs": [],
   "source": [
    "downtown = pd.read_csv('data/dt_data.csv')"
   ]
  },
  {
   "cell_type": "code",
   "execution_count": 6,
   "metadata": {},
   "outputs": [],
   "source": [
    "region = pd.read_csv('data/region_data.csv')"
   ]
  },
  {
   "cell_type": "markdown",
   "metadata": {},
   "source": [
    "Table 1\n",
    "CNS 1 - 20"
   ]
  },
  {
   "cell_type": "code",
   "execution_count": 7,
   "metadata": {},
   "outputs": [],
   "source": [
    "job_categories = ['Agriculture, Forestry, Fishing and Hunting',\n",
    "                 'Mining, Quarrying, and Oil and Gas Extraction',\n",
    "                 'Utilities','Construction','Manufacturing','Wholesale Trade',\n",
    "                  'Retail Trade','Transportation and Warehousing','Information',\n",
    "                  'Finance and Insurance','Real Estate and Rental and Leasing',\n",
    "                  'Professional, Scientific, and Technical Services','Management of Companies and Enterprises',\n",
    "                  'Administrative and Support and Waste Management and Remediation Services',\n",
    "                  'Educational Services','Health Care and Social Assistance','Arts, Entertainment, and Recreation',\n",
    "                  'Accommodation and Food Services','Other Services except Public Administration',\n",
    "                  'Public Administration']"
   ]
  },
  {
   "cell_type": "code",
   "execution_count": 8,
   "metadata": {},
   "outputs": [
    {
     "data": {
      "text/plain": [
       "20"
      ]
     },
     "execution_count": 8,
     "metadata": {},
     "output_type": "execute_result"
    }
   ],
   "source": [
    "len(job_categories)"
   ]
  },
  {
   "cell_type": "markdown",
   "metadata": {},
   "source": [
    "Downtown Querying"
   ]
  },
  {
   "cell_type": "code",
   "execution_count": 9,
   "metadata": {},
   "outputs": [
    {
     "name": "stdout",
     "output_type": "stream",
     "text": [
      "{'CNS01': 48, 'CNS02': 0, 'CNS03': 2056, 'CNS04': 5460, 'CNS05': 6960, 'CNS06': 2968, 'CNS07': 7060, 'CNS08': 25788, 'CNS09': 8884, 'CNS10': 14972, 'CNS11': 7168, 'CNS12': 57964, 'CNS13': 3412, 'CNS14': 12552, 'CNS15': 7948, 'CNS16': 15880, 'CNS17': 3744, 'CNS18': 41664, 'CNS19': 10388, 'CNS20': 58376}\n"
     ]
    }
   ],
   "source": [
    "# Create an empty dictionary to store the sums\n",
    "dt_sums = {}\n",
    "\n",
    "# Loop through the column names from \"CNS01\" to \"CNS20\"\n",
    "for column_name in [f'CNS{i:02d}' for i in range(1, 21)]:\n",
    "    column_sum = downtown[column_name].sum()\n",
    "    dt_sums[column_name] = column_sum\n",
    "\n",
    "# Now, column_sums is a dictionary where keys are column names like \"CNS01\", \"CNS02\", ..., \"CNS20\",\n",
    "# and values are the sums of the respective columns\n",
    "print(dt_sums)"
   ]
  },
  {
   "cell_type": "code",
   "execution_count": 10,
   "metadata": {},
   "outputs": [],
   "source": [
    "dt_df = pd.DataFrame.from_dict(dt_sums, orient='index', columns=['Sum'])\n",
    "dt_df.index = job_categories\n",
    "dt_df = dt_df.rename(columns={\"Sum\": \"Total jobs\"})"
   ]
  },
  {
   "cell_type": "code",
   "execution_count": 11,
   "metadata": {},
   "outputs": [
    {
     "data": {
      "text/plain": [
       "293292"
      ]
     },
     "execution_count": 11,
     "metadata": {},
     "output_type": "execute_result"
    }
   ],
   "source": [
    "total_jobs_dt = dt_df['Total jobs'].sum()\n",
    "total_jobs_dt"
   ]
  },
  {
   "cell_type": "markdown",
   "metadata": {},
   "source": [
    "Regional Querying"
   ]
  },
  {
   "cell_type": "code",
   "execution_count": 12,
   "metadata": {},
   "outputs": [
    {
     "name": "stdout",
     "output_type": "stream",
     "text": [
      "{'CNS01': 35824, 'CNS02': 1368, 'CNS03': 30712, 'CNS04': 349096, 'CNS05': 457936, 'CNS06': 178728, 'CNS07': 507012, 'CNS08': 125956, 'CNS09': 97792, 'CNS10': 188896, 'CNS11': 111416, 'CNS12': 624960, 'CNS13': 108064, 'CNS14': 380980, 'CNS15': 510272, 'CNS16': 834016, 'CNS17': 96980, 'CNS18': 492932, 'CNS19': 177640, 'CNS20': 212644}\n"
     ]
    }
   ],
   "source": [
    "# Create an empty dictionary to store the sums\n",
    "regional_sums = {}\n",
    "\n",
    "# Loop through the column names from \"CNS01\" to \"CNS20\"\n",
    "for column_name in [f'CNS{i:02d}' for i in range(1, 21)]:\n",
    "    column_sum = region[column_name].sum()\n",
    "    regional_sums[column_name] = column_sum\n",
    "\n",
    "# Now, column_sums is a dictionary where keys are column names like \"CNS01\", \"CNS02\", ..., \"CNS20\",\n",
    "# and values are the sums of the respective columns\n",
    "print(regional_sums)"
   ]
  },
  {
   "cell_type": "code",
   "execution_count": 13,
   "metadata": {},
   "outputs": [],
   "source": [
    "region_df = pd.DataFrame.from_dict(regional_sums, orient='index', columns=['Sum'])\n",
    "region_df.index = job_categories\n",
    "region_df = region_df.rename(columns={\"Sum\": \"Total jobs\"})"
   ]
  },
  {
   "cell_type": "code",
   "execution_count": 14,
   "metadata": {},
   "outputs": [
    {
     "data": {
      "text/plain": [
       "5523224"
      ]
     },
     "execution_count": 14,
     "metadata": {},
     "output_type": "execute_result"
    }
   ],
   "source": [
    "total_jobs_region = region_df['Total jobs'].sum()\n",
    "total_jobs_region"
   ]
  },
  {
   "cell_type": "markdown",
   "metadata": {},
   "source": [
    "Table 1 Code"
   ]
  },
  {
   "cell_type": "code",
   "execution_count": 15,
   "metadata": {},
   "outputs": [],
   "source": [
    "dt_df['% of jobs'] = (dt_df['Total jobs'] / total_jobs_dt * 100)\n",
    "dt_df = dt_df.sort_values(by='% of jobs',ascending = False)\n",
    "dt_df['% of jobs'] = dt_df['% of jobs'].apply(lambda x: f'{x:.2f}%')"
   ]
  },
  {
   "cell_type": "markdown",
   "metadata": {},
   "source": [
    "# Who works and lives in the Downtown San Diego employment center?"
   ]
  },
  {
   "cell_type": "markdown",
   "metadata": {},
   "source": [
    "## Highlight Table 1\n",
    "Of the 293,292 jobs in\n",
    "the Downtown San Diego\n",
    "employment center, the top\n",
    "five are categorized as Public Administration, Professional, Scientific, and Technical Services,\n",
    "Accommodation and Food Services\t, Transportation and Warehousing, and health care and\n",
    "Social assistance. Compared\n",
    "to the region overall, there\n",
    "is an overrepresentation of\n",
    "accommodations and\n",
    "local government and an\n",
    "underrepresentation of retail."
   ]
  },
  {
   "cell_type": "code",
   "execution_count": 16,
   "metadata": {
    "scrolled": true
   },
   "outputs": [
    {
     "data": {
      "text/html": [
       "<div>\n",
       "<style scoped>\n",
       "    .dataframe tbody tr th:only-of-type {\n",
       "        vertical-align: middle;\n",
       "    }\n",
       "\n",
       "    .dataframe tbody tr th {\n",
       "        vertical-align: top;\n",
       "    }\n",
       "\n",
       "    .dataframe thead th {\n",
       "        text-align: right;\n",
       "    }\n",
       "</style>\n",
       "<table border=\"1\" class=\"dataframe\">\n",
       "  <thead>\n",
       "    <tr style=\"text-align: right;\">\n",
       "      <th></th>\n",
       "      <th>Total jobs</th>\n",
       "      <th>% of jobs</th>\n",
       "    </tr>\n",
       "  </thead>\n",
       "  <tbody>\n",
       "    <tr>\n",
       "      <th>Public Administration</th>\n",
       "      <td>58376</td>\n",
       "      <td>19.90%</td>\n",
       "    </tr>\n",
       "    <tr>\n",
       "      <th>Professional, Scientific, and Technical Services</th>\n",
       "      <td>57964</td>\n",
       "      <td>19.76%</td>\n",
       "    </tr>\n",
       "    <tr>\n",
       "      <th>Accommodation and Food Services</th>\n",
       "      <td>41664</td>\n",
       "      <td>14.21%</td>\n",
       "    </tr>\n",
       "    <tr>\n",
       "      <th>Transportation and Warehousing</th>\n",
       "      <td>25788</td>\n",
       "      <td>8.79%</td>\n",
       "    </tr>\n",
       "    <tr>\n",
       "      <th>Health Care and Social Assistance</th>\n",
       "      <td>15880</td>\n",
       "      <td>5.41%</td>\n",
       "    </tr>\n",
       "    <tr>\n",
       "      <th>Finance and Insurance</th>\n",
       "      <td>14972</td>\n",
       "      <td>5.10%</td>\n",
       "    </tr>\n",
       "    <tr>\n",
       "      <th>Administrative and Support and Waste Management and Remediation Services</th>\n",
       "      <td>12552</td>\n",
       "      <td>4.28%</td>\n",
       "    </tr>\n",
       "    <tr>\n",
       "      <th>Other Services except Public Administration</th>\n",
       "      <td>10388</td>\n",
       "      <td>3.54%</td>\n",
       "    </tr>\n",
       "    <tr>\n",
       "      <th>Information</th>\n",
       "      <td>8884</td>\n",
       "      <td>3.03%</td>\n",
       "    </tr>\n",
       "    <tr>\n",
       "      <th>Educational Services</th>\n",
       "      <td>7948</td>\n",
       "      <td>2.71%</td>\n",
       "    </tr>\n",
       "  </tbody>\n",
       "</table>\n",
       "</div>"
      ],
      "text/plain": [
       "                                                    Total jobs % of jobs\n",
       "Public Administration                                    58376    19.90%\n",
       "Professional, Scientific, and Technical Services         57964    19.76%\n",
       "Accommodation and Food Services                          41664    14.21%\n",
       "Transportation and Warehousing                           25788     8.79%\n",
       "Health Care and Social Assistance                        15880     5.41%\n",
       "Finance and Insurance                                    14972     5.10%\n",
       "Administrative and Support and Waste Management...       12552     4.28%\n",
       "Other Services except Public Administration              10388     3.54%\n",
       "Information                                               8884     3.03%\n",
       "Educational Services                                      7948     2.71%"
      ]
     },
     "execution_count": 16,
     "metadata": {},
     "output_type": "execute_result"
    }
   ],
   "source": [
    "dt_df.head(10)"
   ]
  },
  {
   "cell_type": "code",
   "execution_count": 17,
   "metadata": {},
   "outputs": [],
   "source": [
    "dt_df.to_csv('output/DowntownJobDistribution.csv')"
   ]
  },
  {
   "cell_type": "markdown",
   "metadata": {},
   "source": [
    "## Figure 1"
   ]
  },
  {
   "cell_type": "code",
   "execution_count": 18,
   "metadata": {},
   "outputs": [],
   "source": [
    "college_degree_jobs_dt = downtown['CD04'].sum()\n",
    "college_degree_jobs_region = region['CD04'].sum()"
   ]
  },
  {
   "cell_type": "code",
   "execution_count": 19,
   "metadata": {},
   "outputs": [],
   "source": [
    "percentage_college_dt = (college_degree_jobs_dt / total_jobs_dt) * 100\n",
    "percentage_college_region = (college_degree_jobs_region / total_jobs_region) * 100\n",
    "formatted_percentage_dt = f\"{percentage_college_dt:.2f}%\"\n",
    "formatted_percentage_region = f\"{percentage_college_region:.2f}%\""
   ]
  },
  {
   "cell_type": "code",
   "execution_count": 20,
   "metadata": {},
   "outputs": [
    {
     "data": {
      "text/plain": [
       "'Downtown College Degree Percent: 26.59%'"
      ]
     },
     "execution_count": 20,
     "metadata": {},
     "output_type": "execute_result"
    }
   ],
   "source": [
    "'Downtown College Degree Percent: ' + formatted_percentage_dt"
   ]
  },
  {
   "cell_type": "code",
   "execution_count": 21,
   "metadata": {
    "scrolled": true
   },
   "outputs": [
    {
     "data": {
      "text/plain": [
       "'Region College Degree Percent: 24.53%'"
      ]
     },
     "execution_count": 21,
     "metadata": {},
     "output_type": "execute_result"
    }
   ],
   "source": [
    "'Region College Degree Percent: ' + formatted_percentage_region"
   ]
  },
  {
   "cell_type": "markdown",
   "metadata": {},
   "source": [
    "## Around 27% of workers in the downtown employment center have a 4-year college degree (or higher), a little higher than the regional average (24%)."
   ]
  }
 ],
 "metadata": {
  "kernelspec": {
   "display_name": "Python 3",
   "language": "python",
   "name": "python3"
  },
  "language_info": {
   "codemirror_mode": {
    "name": "ipython",
    "version": 3
   },
   "file_extension": ".py",
   "mimetype": "text/x-python",
   "name": "python",
   "nbconvert_exporter": "python",
   "pygments_lexer": "ipython3",
   "version": "3.8.5"
  }
 },
 "nbformat": 4,
 "nbformat_minor": 4
}
