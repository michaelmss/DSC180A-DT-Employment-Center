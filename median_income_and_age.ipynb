{
 "cells": [
  {
   "cell_type": "markdown",
   "metadata": {},
   "source": [
    "# Imports"
   ]
  },
  {
   "cell_type": "code",
   "execution_count": 1,
   "metadata": {},
   "outputs": [],
   "source": [
    "import geopandas as gpd\n",
    "from shapely.wkt import loads\n",
    "import pandas as pd\n",
    "from shapely.geometry import Point, MultiPolygon"
   ]
  },
  {
   "cell_type": "markdown",
   "metadata": {},
   "source": [
    "# Read Data"
   ]
  },
  {
   "cell_type": "code",
   "execution_count": 2,
   "metadata": {},
   "outputs": [],
   "source": [
    "outlines = gpd.read_file('data/employment_center_outlines.csv').drop(columns=['geometry'])\n",
    "outlines['the_geom'] = outlines['the_geom'].apply(loads)\n",
    "outlines = outlines.set_geometry('the_geom')"
   ]
  },
  {
   "cell_type": "code",
   "execution_count": 3,
   "metadata": {},
   "outputs": [],
   "source": [
    "tracts = gpd.read_file('data/tracts.csv').drop(columns=['geometry'])\n",
    "tracts['the_geom'] = tracts['the_geom'].apply(loads)\n",
    "tracts = tracts.set_geometry('the_geom')"
   ]
  },
  {
   "cell_type": "code",
   "execution_count": 4,
   "metadata": {},
   "outputs": [],
   "source": [
    "income = gpd.read_file('data/income_estimates.csv').drop(columns=['geometry'])"
   ]
  },
  {
   "cell_type": "markdown",
   "metadata": {},
   "source": [
    "# Merge Tracts and Outlines on Centroids"
   ]
  },
  {
   "cell_type": "code",
   "execution_count": 5,
   "metadata": {},
   "outputs": [],
   "source": [
    "def get_centroid(df):\n",
    "    polygons = df['the_geom']\n",
    "    if isinstance(polygons, MultiPolygon) or isinstance(polygons, Polygon):\n",
    "        return polygons.centroid\n",
    "    else:\n",
    "        return None"
   ]
  },
  {
   "cell_type": "code",
   "execution_count": 6,
   "metadata": {},
   "outputs": [],
   "source": [
    "outlines['centroid'] = outlines.apply(get_centroid, axis=1)\n",
    "tracts['centroid'] = tracts.apply(get_centroid, axis=1)\n",
    "outlines_and_tracts = outlines.sjoin_nearest(tracts, how='left', distance_col='centroid')"
   ]
  },
  {
   "cell_type": "markdown",
   "metadata": {},
   "source": [
    "# Merge Tracts and Outlines on Income"
   ]
  },
  {
   "cell_type": "code",
   "execution_count": 7,
   "metadata": {},
   "outputs": [
    {
     "name": "stderr",
     "output_type": "stream",
     "text": [
      "<ipython-input-7-16e2f209a8e4>:5: UserWarning: Boolean Series key will be reindexed to match DataFrame index.\n",
      "  merge_income= merged_not_equal[merged_not_equal['households_right']==merged_not_equal['households_left']][merged_not_equal['yr_id']=='2022'][merged_not_equal['households_left'].astype(int)>0]\n",
      "<ipython-input-7-16e2f209a8e4>:5: UserWarning: Boolean Series key will be reindexed to match DataFrame index.\n",
      "  merge_income= merged_not_equal[merged_not_equal['households_right']==merged_not_equal['households_left']][merged_not_equal['yr_id']=='2022'][merged_not_equal['households_left'].astype(int)>0]\n"
     ]
    }
   ],
   "source": [
    "income['households']=income['households'].astype(int)\n",
    "maxes = income[income['yr_id']=='2022'].groupby(['tract']).max()[['households']].reset_index()\n",
    "maxes['tract'] = maxes['tract'].astype(str)\n",
    "merged_not_equal = income.merge(maxes,how='right',on='tract', suffixes=('_right', '_left'))\n",
    "merge_income= merged_not_equal[merged_not_equal['households_right']==merged_not_equal['households_left']][merged_not_equal['yr_id']=='2022'][merged_not_equal['households_left'].astype(int)>0]"
   ]
  },
  {
   "cell_type": "code",
   "execution_count": 8,
   "metadata": {},
   "outputs": [],
   "source": [
    "spatial_income = outlines_and_tracts.merge(merge_income, left_on='CT2010DT', right_on='tract',how='left')"
   ]
  },
  {
   "cell_type": "markdown",
   "metadata": {},
   "source": [
    "# Finding Median Income"
   ]
  },
  {
   "cell_type": "code",
   "execution_count": 9,
   "metadata": {},
   "outputs": [],
   "source": [
    "# Define a function to calculate the median of the income range\n",
    "def calculate_median_income(income_range):\n",
    "    if 'or more' in income_range:\n",
    "        # Take the lower bound for 'or more'\n",
    "        lower_bound = int(income_range.replace('$', '').replace('or more', '').replace(',', '').strip())\n",
    "        return lower_bound\n",
    "    elif 'Less than' in income_range:\n",
    "        # Take the upper bound for 'Less than'\n",
    "        upper_bound = int(income_range.replace('Less than $', '').replace(',', '').strip())\n",
    "        return upper_bound\n",
    "    else:\n",
    "        # Split the range and calculate the median\n",
    "        lower_bound, upper_bound = [int(s.replace('$', '').replace(',', '').strip()) for s in income_range.split('to')]\n",
    "        return (lower_bound + upper_bound) // 2"
   ]
  },
  {
   "cell_type": "markdown",
   "metadata": {},
   "source": [
    "# Median Income by Households"
   ]
  },
  {
   "cell_type": "markdown",
   "metadata": {},
   "source": [
    "Separating Downtown Data by Tract and Most Recent Year"
   ]
  },
  {
   "cell_type": "code",
   "execution_count": 10,
   "metadata": {},
   "outputs": [],
   "source": [
    "incomes_dt = income[income['tract']=='201.05']"
   ]
  },
  {
   "cell_type": "code",
   "execution_count": 11,
   "metadata": {
    "scrolled": false
   },
   "outputs": [],
   "source": [
    "median_income_2022_dt = incomes_dt[incomes_dt['yr_id'] == '2022']"
   ]
  },
  {
   "cell_type": "code",
   "execution_count": 12,
   "metadata": {
    "scrolled": false
   },
   "outputs": [
    {
     "data": {
      "text/html": [
       "<div>\n",
       "<style scoped>\n",
       "    .dataframe tbody tr th:only-of-type {\n",
       "        vertical-align: middle;\n",
       "    }\n",
       "\n",
       "    .dataframe tbody tr th {\n",
       "        vertical-align: top;\n",
       "    }\n",
       "\n",
       "    .dataframe thead th {\n",
       "        text-align: right;\n",
       "    }\n",
       "</style>\n",
       "<table border=\"1\" class=\"dataframe\">\n",
       "  <thead>\n",
       "    <tr style=\"text-align: right;\">\n",
       "      <th></th>\n",
       "      <th>tract</th>\n",
       "      <th>yr_id</th>\n",
       "      <th>name</th>\n",
       "      <th>households</th>\n",
       "    </tr>\n",
       "  </thead>\n",
       "  <tbody>\n",
       "    <tr>\n",
       "      <th>12410</th>\n",
       "      <td>201.05</td>\n",
       "      <td>2022</td>\n",
       "      <td>Less than $15,000</td>\n",
       "      <td>63</td>\n",
       "    </tr>\n",
       "    <tr>\n",
       "      <th>12411</th>\n",
       "      <td>201.05</td>\n",
       "      <td>2022</td>\n",
       "      <td>$15,000 to $29,999</td>\n",
       "      <td>140</td>\n",
       "    </tr>\n",
       "    <tr>\n",
       "      <th>12412</th>\n",
       "      <td>201.05</td>\n",
       "      <td>2022</td>\n",
       "      <td>$30,000 to $44,999</td>\n",
       "      <td>105</td>\n",
       "    </tr>\n",
       "    <tr>\n",
       "      <th>12413</th>\n",
       "      <td>201.05</td>\n",
       "      <td>2022</td>\n",
       "      <td>$45,000 to $59,999</td>\n",
       "      <td>162</td>\n",
       "    </tr>\n",
       "    <tr>\n",
       "      <th>12414</th>\n",
       "      <td>201.05</td>\n",
       "      <td>2022</td>\n",
       "      <td>$60,000 to $74,999</td>\n",
       "      <td>155</td>\n",
       "    </tr>\n",
       "    <tr>\n",
       "      <th>12415</th>\n",
       "      <td>201.05</td>\n",
       "      <td>2022</td>\n",
       "      <td>$75,000 to $99,999</td>\n",
       "      <td>175</td>\n",
       "    </tr>\n",
       "    <tr>\n",
       "      <th>12416</th>\n",
       "      <td>201.05</td>\n",
       "      <td>2022</td>\n",
       "      <td>$100,000 to $124,999</td>\n",
       "      <td>150</td>\n",
       "    </tr>\n",
       "    <tr>\n",
       "      <th>12417</th>\n",
       "      <td>201.05</td>\n",
       "      <td>2022</td>\n",
       "      <td>$125,000 to $149,999</td>\n",
       "      <td>125</td>\n",
       "    </tr>\n",
       "    <tr>\n",
       "      <th>12418</th>\n",
       "      <td>201.05</td>\n",
       "      <td>2022</td>\n",
       "      <td>$150,000 to $199,999</td>\n",
       "      <td>245</td>\n",
       "    </tr>\n",
       "    <tr>\n",
       "      <th>12419</th>\n",
       "      <td>201.05</td>\n",
       "      <td>2022</td>\n",
       "      <td>$200,000 or more</td>\n",
       "      <td>120</td>\n",
       "    </tr>\n",
       "  </tbody>\n",
       "</table>\n",
       "</div>"
      ],
      "text/plain": [
       "        tract yr_id                  name  households\n",
       "12410  201.05  2022     Less than $15,000          63\n",
       "12411  201.05  2022    $15,000 to $29,999         140\n",
       "12412  201.05  2022    $30,000 to $44,999         105\n",
       "12413  201.05  2022    $45,000 to $59,999         162\n",
       "12414  201.05  2022    $60,000 to $74,999         155\n",
       "12415  201.05  2022    $75,000 to $99,999         175\n",
       "12416  201.05  2022  $100,000 to $124,999         150\n",
       "12417  201.05  2022  $125,000 to $149,999         125\n",
       "12418  201.05  2022  $150,000 to $199,999         245\n",
       "12419  201.05  2022      $200,000 or more         120"
      ]
     },
     "execution_count": 12,
     "metadata": {},
     "output_type": "execute_result"
    }
   ],
   "source": [
    "median_income_2022_dt"
   ]
  },
  {
   "cell_type": "code",
   "execution_count": 13,
   "metadata": {},
   "outputs": [
    {
     "name": "stderr",
     "output_type": "stream",
     "text": [
      "<ipython-input-13-c20d6b777dc9>:1: SettingWithCopyWarning: \n",
      "A value is trying to be set on a copy of a slice from a DataFrame.\n",
      "Try using .loc[row_indexer,col_indexer] = value instead\n",
      "\n",
      "See the caveats in the documentation: https://pandas.pydata.org/pandas-docs/stable/user_guide/indexing.html#returning-a-view-versus-a-copy\n",
      "  median_income_2022_dt['income'] = median_income_2022_dt['name'].apply(calculate_median_income)\n"
     ]
    }
   ],
   "source": [
    "median_income_2022_dt['income'] = median_income_2022_dt['name'].apply(calculate_median_income)"
   ]
  },
  {
   "cell_type": "code",
   "execution_count": 14,
   "metadata": {},
   "outputs": [
    {
     "data": {
      "text/html": [
       "<div>\n",
       "<style scoped>\n",
       "    .dataframe tbody tr th:only-of-type {\n",
       "        vertical-align: middle;\n",
       "    }\n",
       "\n",
       "    .dataframe tbody tr th {\n",
       "        vertical-align: top;\n",
       "    }\n",
       "\n",
       "    .dataframe thead th {\n",
       "        text-align: right;\n",
       "    }\n",
       "</style>\n",
       "<table border=\"1\" class=\"dataframe\">\n",
       "  <thead>\n",
       "    <tr style=\"text-align: right;\">\n",
       "      <th></th>\n",
       "      <th>tract</th>\n",
       "      <th>yr_id</th>\n",
       "      <th>name</th>\n",
       "      <th>households</th>\n",
       "      <th>income</th>\n",
       "    </tr>\n",
       "  </thead>\n",
       "  <tbody>\n",
       "    <tr>\n",
       "      <th>12410</th>\n",
       "      <td>201.05</td>\n",
       "      <td>2022</td>\n",
       "      <td>Less than $15,000</td>\n",
       "      <td>63</td>\n",
       "      <td>15000</td>\n",
       "    </tr>\n",
       "    <tr>\n",
       "      <th>12411</th>\n",
       "      <td>201.05</td>\n",
       "      <td>2022</td>\n",
       "      <td>$15,000 to $29,999</td>\n",
       "      <td>140</td>\n",
       "      <td>22499</td>\n",
       "    </tr>\n",
       "    <tr>\n",
       "      <th>12412</th>\n",
       "      <td>201.05</td>\n",
       "      <td>2022</td>\n",
       "      <td>$30,000 to $44,999</td>\n",
       "      <td>105</td>\n",
       "      <td>37499</td>\n",
       "    </tr>\n",
       "    <tr>\n",
       "      <th>12413</th>\n",
       "      <td>201.05</td>\n",
       "      <td>2022</td>\n",
       "      <td>$45,000 to $59,999</td>\n",
       "      <td>162</td>\n",
       "      <td>52499</td>\n",
       "    </tr>\n",
       "    <tr>\n",
       "      <th>12414</th>\n",
       "      <td>201.05</td>\n",
       "      <td>2022</td>\n",
       "      <td>$60,000 to $74,999</td>\n",
       "      <td>155</td>\n",
       "      <td>67499</td>\n",
       "    </tr>\n",
       "    <tr>\n",
       "      <th>12415</th>\n",
       "      <td>201.05</td>\n",
       "      <td>2022</td>\n",
       "      <td>$75,000 to $99,999</td>\n",
       "      <td>175</td>\n",
       "      <td>87499</td>\n",
       "    </tr>\n",
       "    <tr>\n",
       "      <th>12416</th>\n",
       "      <td>201.05</td>\n",
       "      <td>2022</td>\n",
       "      <td>$100,000 to $124,999</td>\n",
       "      <td>150</td>\n",
       "      <td>112499</td>\n",
       "    </tr>\n",
       "    <tr>\n",
       "      <th>12417</th>\n",
       "      <td>201.05</td>\n",
       "      <td>2022</td>\n",
       "      <td>$125,000 to $149,999</td>\n",
       "      <td>125</td>\n",
       "      <td>137499</td>\n",
       "    </tr>\n",
       "    <tr>\n",
       "      <th>12418</th>\n",
       "      <td>201.05</td>\n",
       "      <td>2022</td>\n",
       "      <td>$150,000 to $199,999</td>\n",
       "      <td>245</td>\n",
       "      <td>174999</td>\n",
       "    </tr>\n",
       "    <tr>\n",
       "      <th>12419</th>\n",
       "      <td>201.05</td>\n",
       "      <td>2022</td>\n",
       "      <td>$200,000 or more</td>\n",
       "      <td>120</td>\n",
       "      <td>200000</td>\n",
       "    </tr>\n",
       "  </tbody>\n",
       "</table>\n",
       "</div>"
      ],
      "text/plain": [
       "        tract yr_id                  name  households  income\n",
       "12410  201.05  2022     Less than $15,000          63   15000\n",
       "12411  201.05  2022    $15,000 to $29,999         140   22499\n",
       "12412  201.05  2022    $30,000 to $44,999         105   37499\n",
       "12413  201.05  2022    $45,000 to $59,999         162   52499\n",
       "12414  201.05  2022    $60,000 to $74,999         155   67499\n",
       "12415  201.05  2022    $75,000 to $99,999         175   87499\n",
       "12416  201.05  2022  $100,000 to $124,999         150  112499\n",
       "12417  201.05  2022  $125,000 to $149,999         125  137499\n",
       "12418  201.05  2022  $150,000 to $199,999         245  174999\n",
       "12419  201.05  2022      $200,000 or more         120  200000"
      ]
     },
     "execution_count": 14,
     "metadata": {},
     "output_type": "execute_result"
    }
   ],
   "source": [
    "median_income_2022_dt"
   ]
  },
  {
   "cell_type": "code",
   "execution_count": 15,
   "metadata": {},
   "outputs": [
    {
     "name": "stderr",
     "output_type": "stream",
     "text": [
      "<ipython-input-15-6c6dd73f5388>:2: SettingWithCopyWarning: \n",
      "A value is trying to be set on a copy of a slice from a DataFrame.\n",
      "Try using .loc[row_indexer,col_indexer] = value instead\n",
      "\n",
      "See the caveats in the documentation: https://pandas.pydata.org/pandas-docs/stable/user_guide/indexing.html#returning-a-view-versus-a-copy\n",
      "  median_income_2022_dt['cumulative_frequency'] = median_income_2022_dt['households'].cumsum()\n"
     ]
    }
   ],
   "source": [
    "# Assume median_income_2022_dt is your DataFrame with 'households' and 'income' columns\n",
    "median_income_2022_dt['cumulative_frequency'] = median_income_2022_dt['households'].cumsum()\n",
    "total_households = median_income_2022_dt['households'].sum()\n",
    "median_position = total_households / 2\n",
    "median_class_interval = median_income_2022_dt[median_income_2022_dt['cumulative_frequency'] >= median_position].iloc[0]\n",
    "\n",
    "# Calculate the lower boundary of the median class interval\n",
    "L = (median_class_interval['income'] - \n",
    "     (median_class_interval['income'] - \n",
    "      median_income_2022_dt[median_income_2022_dt['income'] < median_class_interval['income']]['income'].max()) / 2)\n",
    "\n",
    "# If the median class is the first class, L would be 0 (or another reasonable assumption)\n",
    "F = median_income_2022_dt[median_income_2022_dt['income'] < median_class_interval['income']]['households'].sum()\n",
    "f = median_class_interval['households']\n",
    "W = (median_income_2022_dt['income'].iloc[1] - median_income_2022_dt['income'].iloc[0])\n",
    "median_income = L + ((median_position - F) / f) * W\n",
    "median_income = round(median_income)"
   ]
  },
  {
   "cell_type": "markdown",
   "metadata": {},
   "source": [
    "# Median Household Income for Downtown Employment Center"
   ]
  },
  {
   "cell_type": "code",
   "execution_count": 16,
   "metadata": {
    "scrolled": true
   },
   "outputs": [
    {
     "data": {
      "text/plain": [
       "81570"
      ]
     },
     "execution_count": 16,
     "metadata": {},
     "output_type": "execute_result"
    }
   ],
   "source": [
    "median_income"
   ]
  },
  {
   "cell_type": "markdown",
   "metadata": {},
   "source": [
    "# Median Income by Household Region"
   ]
  },
  {
   "cell_type": "code",
   "execution_count": 17,
   "metadata": {},
   "outputs": [],
   "source": [
    "incomes_region = pd.read_csv('data/2022_Estimates_Household_Income_by_2020_Census_Tract.csv')"
   ]
  },
  {
   "cell_type": "code",
   "execution_count": 18,
   "metadata": {},
   "outputs": [
    {
     "data": {
      "text/html": [
       "<div>\n",
       "<style scoped>\n",
       "    .dataframe tbody tr th:only-of-type {\n",
       "        vertical-align: middle;\n",
       "    }\n",
       "\n",
       "    .dataframe tbody tr th {\n",
       "        vertical-align: top;\n",
       "    }\n",
       "\n",
       "    .dataframe thead th {\n",
       "        text-align: right;\n",
       "    }\n",
       "</style>\n",
       "<table border=\"1\" class=\"dataframe\">\n",
       "  <thead>\n",
       "    <tr style=\"text-align: right;\">\n",
       "      <th></th>\n",
       "      <th>tract</th>\n",
       "      <th>yr_id</th>\n",
       "      <th>name</th>\n",
       "      <th>households</th>\n",
       "    </tr>\n",
       "  </thead>\n",
       "  <tbody>\n",
       "    <tr>\n",
       "      <th>20</th>\n",
       "      <td>1.00</td>\n",
       "      <td>2022</td>\n",
       "      <td>Less than $15,000</td>\n",
       "      <td>1</td>\n",
       "    </tr>\n",
       "    <tr>\n",
       "      <th>21</th>\n",
       "      <td>1.00</td>\n",
       "      <td>2022</td>\n",
       "      <td>$15,000 to $29,999</td>\n",
       "      <td>9</td>\n",
       "    </tr>\n",
       "    <tr>\n",
       "      <th>22</th>\n",
       "      <td>1.00</td>\n",
       "      <td>2022</td>\n",
       "      <td>$30,000 to $44,999</td>\n",
       "      <td>69</td>\n",
       "    </tr>\n",
       "    <tr>\n",
       "      <th>23</th>\n",
       "      <td>1.00</td>\n",
       "      <td>2022</td>\n",
       "      <td>$45,000 to $59,999</td>\n",
       "      <td>44</td>\n",
       "    </tr>\n",
       "    <tr>\n",
       "      <th>24</th>\n",
       "      <td>1.00</td>\n",
       "      <td>2022</td>\n",
       "      <td>$60,000 to $74,999</td>\n",
       "      <td>64</td>\n",
       "    </tr>\n",
       "    <tr>\n",
       "      <th>...</th>\n",
       "      <td>...</td>\n",
       "      <td>...</td>\n",
       "      <td>...</td>\n",
       "      <td>...</td>\n",
       "    </tr>\n",
       "    <tr>\n",
       "      <th>22075</th>\n",
       "      <td>99.02</td>\n",
       "      <td>2022</td>\n",
       "      <td>$75,000 to $99,999</td>\n",
       "      <td>0</td>\n",
       "    </tr>\n",
       "    <tr>\n",
       "      <th>22076</th>\n",
       "      <td>99.02</td>\n",
       "      <td>2022</td>\n",
       "      <td>$100,000 to $124,999</td>\n",
       "      <td>0</td>\n",
       "    </tr>\n",
       "    <tr>\n",
       "      <th>22077</th>\n",
       "      <td>99.02</td>\n",
       "      <td>2022</td>\n",
       "      <td>$125,000 to $149,999</td>\n",
       "      <td>0</td>\n",
       "    </tr>\n",
       "    <tr>\n",
       "      <th>22078</th>\n",
       "      <td>99.02</td>\n",
       "      <td>2022</td>\n",
       "      <td>$150,000 to $199,999</td>\n",
       "      <td>0</td>\n",
       "    </tr>\n",
       "    <tr>\n",
       "      <th>22079</th>\n",
       "      <td>99.02</td>\n",
       "      <td>2022</td>\n",
       "      <td>$200,000 or more</td>\n",
       "      <td>0</td>\n",
       "    </tr>\n",
       "  </tbody>\n",
       "</table>\n",
       "<p>7360 rows × 4 columns</p>\n",
       "</div>"
      ],
      "text/plain": [
       "       tract  yr_id                  name  households\n",
       "20      1.00   2022     Less than $15,000           1\n",
       "21      1.00   2022    $15,000 to $29,999           9\n",
       "22      1.00   2022    $30,000 to $44,999          69\n",
       "23      1.00   2022    $45,000 to $59,999          44\n",
       "24      1.00   2022    $60,000 to $74,999          64\n",
       "...      ...    ...                   ...         ...\n",
       "22075  99.02   2022    $75,000 to $99,999           0\n",
       "22076  99.02   2022  $100,000 to $124,999           0\n",
       "22077  99.02   2022  $125,000 to $149,999           0\n",
       "22078  99.02   2022  $150,000 to $199,999           0\n",
       "22079  99.02   2022      $200,000 or more           0\n",
       "\n",
       "[7360 rows x 4 columns]"
      ]
     },
     "execution_count": 18,
     "metadata": {},
     "output_type": "execute_result"
    }
   ],
   "source": [
    "incomes_region[incomes_region['yr_id'] == 2022]"
   ]
  },
  {
   "cell_type": "code",
   "execution_count": 19,
   "metadata": {},
   "outputs": [
    {
     "data": {
      "text/html": [
       "<div>\n",
       "<style scoped>\n",
       "    .dataframe tbody tr th:only-of-type {\n",
       "        vertical-align: middle;\n",
       "    }\n",
       "\n",
       "    .dataframe tbody tr th {\n",
       "        vertical-align: top;\n",
       "    }\n",
       "\n",
       "    .dataframe thead th {\n",
       "        text-align: right;\n",
       "    }\n",
       "</style>\n",
       "<table border=\"1\" class=\"dataframe\">\n",
       "  <thead>\n",
       "    <tr style=\"text-align: right;\">\n",
       "      <th></th>\n",
       "      <th>name</th>\n",
       "      <th>households</th>\n",
       "    </tr>\n",
       "  </thead>\n",
       "  <tbody>\n",
       "    <tr>\n",
       "      <th>0</th>\n",
       "      <td>$100,000 to $124,999</td>\n",
       "      <td>360301</td>\n",
       "    </tr>\n",
       "    <tr>\n",
       "      <th>1</th>\n",
       "      <td>$125,000 to $149,999</td>\n",
       "      <td>289765</td>\n",
       "    </tr>\n",
       "    <tr>\n",
       "      <th>2</th>\n",
       "      <td>$15,000 to $29,999</td>\n",
       "      <td>276568</td>\n",
       "    </tr>\n",
       "    <tr>\n",
       "      <th>3</th>\n",
       "      <td>$150,000 to $199,999</td>\n",
       "      <td>402192</td>\n",
       "    </tr>\n",
       "    <tr>\n",
       "      <th>4</th>\n",
       "      <td>$200,000 or more</td>\n",
       "      <td>637730</td>\n",
       "    </tr>\n",
       "    <tr>\n",
       "      <th>5</th>\n",
       "      <td>$30,000 to $44,999</td>\n",
       "      <td>282319</td>\n",
       "    </tr>\n",
       "    <tr>\n",
       "      <th>6</th>\n",
       "      <td>$45,000 to $59,999</td>\n",
       "      <td>277735</td>\n",
       "    </tr>\n",
       "    <tr>\n",
       "      <th>7</th>\n",
       "      <td>$60,000 to $74,999</td>\n",
       "      <td>284097</td>\n",
       "    </tr>\n",
       "    <tr>\n",
       "      <th>8</th>\n",
       "      <td>$75,000 to $99,999</td>\n",
       "      <td>425536</td>\n",
       "    </tr>\n",
       "    <tr>\n",
       "      <th>9</th>\n",
       "      <td>Less than $15,000</td>\n",
       "      <td>217205</td>\n",
       "    </tr>\n",
       "  </tbody>\n",
       "</table>\n",
       "</div>"
      ],
      "text/plain": [
       "                   name  households\n",
       "0  $100,000 to $124,999      360301\n",
       "1  $125,000 to $149,999      289765\n",
       "2    $15,000 to $29,999      276568\n",
       "3  $150,000 to $199,999      402192\n",
       "4      $200,000 or more      637730\n",
       "5    $30,000 to $44,999      282319\n",
       "6    $45,000 to $59,999      277735\n",
       "7    $60,000 to $74,999      284097\n",
       "8    $75,000 to $99,999      425536\n",
       "9     Less than $15,000      217205"
      ]
     },
     "execution_count": 19,
     "metadata": {},
     "output_type": "execute_result"
    }
   ],
   "source": [
    "median_income_2022_region = incomes_region.groupby('name').sum().reset_index()\n",
    "median_income_2022_region = median_income_2022_region[['name', 'households']]\n",
    "median_income_2022_region"
   ]
  },
  {
   "cell_type": "code",
   "execution_count": 20,
   "metadata": {},
   "outputs": [],
   "source": [
    "median_income_2022_region['income'] = median_income_2022_region['name'].apply(calculate_median_income)"
   ]
  },
  {
   "cell_type": "code",
   "execution_count": 21,
   "metadata": {},
   "outputs": [],
   "source": [
    "median_income_2022_region = median_income_2022_region.sort_values(by='income')"
   ]
  },
  {
   "cell_type": "code",
   "execution_count": 22,
   "metadata": {},
   "outputs": [
    {
     "data": {
      "text/html": [
       "<div>\n",
       "<style scoped>\n",
       "    .dataframe tbody tr th:only-of-type {\n",
       "        vertical-align: middle;\n",
       "    }\n",
       "\n",
       "    .dataframe tbody tr th {\n",
       "        vertical-align: top;\n",
       "    }\n",
       "\n",
       "    .dataframe thead th {\n",
       "        text-align: right;\n",
       "    }\n",
       "</style>\n",
       "<table border=\"1\" class=\"dataframe\">\n",
       "  <thead>\n",
       "    <tr style=\"text-align: right;\">\n",
       "      <th></th>\n",
       "      <th>name</th>\n",
       "      <th>households</th>\n",
       "      <th>income</th>\n",
       "    </tr>\n",
       "  </thead>\n",
       "  <tbody>\n",
       "    <tr>\n",
       "      <th>9</th>\n",
       "      <td>Less than $15,000</td>\n",
       "      <td>217205</td>\n",
       "      <td>15000</td>\n",
       "    </tr>\n",
       "    <tr>\n",
       "      <th>2</th>\n",
       "      <td>$15,000 to $29,999</td>\n",
       "      <td>276568</td>\n",
       "      <td>22499</td>\n",
       "    </tr>\n",
       "    <tr>\n",
       "      <th>5</th>\n",
       "      <td>$30,000 to $44,999</td>\n",
       "      <td>282319</td>\n",
       "      <td>37499</td>\n",
       "    </tr>\n",
       "    <tr>\n",
       "      <th>6</th>\n",
       "      <td>$45,000 to $59,999</td>\n",
       "      <td>277735</td>\n",
       "      <td>52499</td>\n",
       "    </tr>\n",
       "    <tr>\n",
       "      <th>7</th>\n",
       "      <td>$60,000 to $74,999</td>\n",
       "      <td>284097</td>\n",
       "      <td>67499</td>\n",
       "    </tr>\n",
       "    <tr>\n",
       "      <th>8</th>\n",
       "      <td>$75,000 to $99,999</td>\n",
       "      <td>425536</td>\n",
       "      <td>87499</td>\n",
       "    </tr>\n",
       "    <tr>\n",
       "      <th>0</th>\n",
       "      <td>$100,000 to $124,999</td>\n",
       "      <td>360301</td>\n",
       "      <td>112499</td>\n",
       "    </tr>\n",
       "    <tr>\n",
       "      <th>1</th>\n",
       "      <td>$125,000 to $149,999</td>\n",
       "      <td>289765</td>\n",
       "      <td>137499</td>\n",
       "    </tr>\n",
       "    <tr>\n",
       "      <th>3</th>\n",
       "      <td>$150,000 to $199,999</td>\n",
       "      <td>402192</td>\n",
       "      <td>174999</td>\n",
       "    </tr>\n",
       "    <tr>\n",
       "      <th>4</th>\n",
       "      <td>$200,000 or more</td>\n",
       "      <td>637730</td>\n",
       "      <td>200000</td>\n",
       "    </tr>\n",
       "  </tbody>\n",
       "</table>\n",
       "</div>"
      ],
      "text/plain": [
       "                   name  households  income\n",
       "9     Less than $15,000      217205   15000\n",
       "2    $15,000 to $29,999      276568   22499\n",
       "5    $30,000 to $44,999      282319   37499\n",
       "6    $45,000 to $59,999      277735   52499\n",
       "7    $60,000 to $74,999      284097   67499\n",
       "8    $75,000 to $99,999      425536   87499\n",
       "0  $100,000 to $124,999      360301  112499\n",
       "1  $125,000 to $149,999      289765  137499\n",
       "3  $150,000 to $199,999      402192  174999\n",
       "4      $200,000 or more      637730  200000"
      ]
     },
     "execution_count": 22,
     "metadata": {},
     "output_type": "execute_result"
    }
   ],
   "source": [
    "median_income_2022_region"
   ]
  },
  {
   "cell_type": "code",
   "execution_count": 23,
   "metadata": {},
   "outputs": [],
   "source": [
    "# Assume median_income_2022_dt is your DataFrame with 'households' and 'income' columns\n",
    "median_income_2022_region['cumulative_frequency'] = median_income_2022_region['households'].cumsum()\n",
    "total_households = median_income_2022_region['households'].sum()\n",
    "median_position = total_households / 2\n",
    "median_class_interval = median_income_2022_region[median_income_2022_region['cumulative_frequency'] >= median_position].iloc[0]\n",
    "\n",
    "# Calculate the lower boundary of the median class interval\n",
    "L = (median_class_interval['income'] - \n",
    "     (median_class_interval['income'] - \n",
    "      median_income_2022_region[median_income_2022_region['income'] < median_class_interval['income']]['income'].max()) / 2)\n",
    "\n",
    "# If the median class is the first class, L would be 0 (or another reasonable assumption)\n",
    "F = median_income_2022_region[median_income_2022_region['income'] < median_class_interval['income']]['households'].sum()\n",
    "f = median_class_interval['households']\n",
    "W = (median_income_2022_region['income'].iloc[1] - median_income_2022_region['income'].iloc[0])\n",
    "median_income = L + ((median_position - F) / f) * W\n",
    "median_income = round(median_income)"
   ]
  },
  {
   "cell_type": "markdown",
   "metadata": {},
   "source": [
    "# Median Household Income for Region"
   ]
  },
  {
   "cell_type": "code",
   "execution_count": 24,
   "metadata": {},
   "outputs": [
    {
     "data": {
      "text/plain": [
       "84351"
      ]
     },
     "execution_count": 24,
     "metadata": {},
     "output_type": "execute_result"
    }
   ],
   "source": [
    "median_income"
   ]
  },
  {
   "cell_type": "markdown",
   "metadata": {},
   "source": [
    "# Median Ages"
   ]
  },
  {
   "cell_type": "code",
   "execution_count": 25,
   "metadata": {},
   "outputs": [],
   "source": [
    "#function to handle all cases including 'Under 5' and '85 and Older'\n",
    "def calculate_median_age(age_range):\n",
    "    # Handle the 'Under 5' case\n",
    "    if age_range == 'Under 5':\n",
    "        return 5  # Assuming median age between 0 and 5 is 2.5\n",
    "    # Handle the '85 and Older' case\n",
    "    elif age_range == '85 and Older':\n",
    "        return 85  # Assuming 85 as the median age for '85 and Older'\n",
    "    # Handle the 'and' in age range\n",
    "    elif 'and' in age_range:\n",
    "        # Take the average of the two numbers\n",
    "        ages = age_range.replace('and', '').split()\n",
    "        return sum(map(int, ages)) / 2\n",
    "    # Handle the 'to' in age range\n",
    "    else:\n",
    "        ages = age_range.split(' to ')\n",
    "        return (int(ages[0]) + int(ages[1])) / 2"
   ]
  },
  {
   "cell_type": "code",
   "execution_count": 26,
   "metadata": {},
   "outputs": [],
   "source": [
    "import numpy as np"
   ]
  },
  {
   "cell_type": "code",
   "execution_count": 27,
   "metadata": {},
   "outputs": [],
   "source": [
    "ages_region = pd.read_csv('data/2022_Estimates_Population_by_Age_by_2020_Census_Tract.csv')"
   ]
  },
  {
   "cell_type": "markdown",
   "metadata": {},
   "source": [
    "# Median Age DT Employment Center"
   ]
  },
  {
   "cell_type": "code",
   "execution_count": 34,
   "metadata": {},
   "outputs": [],
   "source": [
    "ages_dt = ages_region[ages_region['tract'] == 201.05]\n",
    "ages_dt_2022 = ages_dt[ages_dt['yr_id'] == 2022]"
   ]
  },
  {
   "cell_type": "code",
   "execution_count": 35,
   "metadata": {},
   "outputs": [
    {
     "data": {
      "text/html": [
       "<div>\n",
       "<style scoped>\n",
       "    .dataframe tbody tr th:only-of-type {\n",
       "        vertical-align: middle;\n",
       "    }\n",
       "\n",
       "    .dataframe tbody tr th {\n",
       "        vertical-align: top;\n",
       "    }\n",
       "\n",
       "    .dataframe thead th {\n",
       "        text-align: right;\n",
       "    }\n",
       "</style>\n",
       "<table border=\"1\" class=\"dataframe\">\n",
       "  <thead>\n",
       "    <tr style=\"text-align: right;\">\n",
       "      <th></th>\n",
       "      <th>tract</th>\n",
       "      <th>yr_id</th>\n",
       "      <th>name</th>\n",
       "      <th>population</th>\n",
       "    </tr>\n",
       "  </thead>\n",
       "  <tbody>\n",
       "    <tr>\n",
       "      <th>24820</th>\n",
       "      <td>201.05</td>\n",
       "      <td>2022</td>\n",
       "      <td>Under 5</td>\n",
       "      <td>207</td>\n",
       "    </tr>\n",
       "    <tr>\n",
       "      <th>24821</th>\n",
       "      <td>201.05</td>\n",
       "      <td>2022</td>\n",
       "      <td>5 to 9</td>\n",
       "      <td>229</td>\n",
       "    </tr>\n",
       "    <tr>\n",
       "      <th>24822</th>\n",
       "      <td>201.05</td>\n",
       "      <td>2022</td>\n",
       "      <td>10 to 14</td>\n",
       "      <td>204</td>\n",
       "    </tr>\n",
       "    <tr>\n",
       "      <th>24823</th>\n",
       "      <td>201.05</td>\n",
       "      <td>2022</td>\n",
       "      <td>15 to 17</td>\n",
       "      <td>92</td>\n",
       "    </tr>\n",
       "    <tr>\n",
       "      <th>24824</th>\n",
       "      <td>201.05</td>\n",
       "      <td>2022</td>\n",
       "      <td>18 and 19</td>\n",
       "      <td>36</td>\n",
       "    </tr>\n",
       "  </tbody>\n",
       "</table>\n",
       "</div>"
      ],
      "text/plain": [
       "        tract  yr_id       name  population\n",
       "24820  201.05   2022    Under 5         207\n",
       "24821  201.05   2022     5 to 9         229\n",
       "24822  201.05   2022   10 to 14         204\n",
       "24823  201.05   2022   15 to 17          92\n",
       "24824  201.05   2022  18 and 19          36"
      ]
     },
     "execution_count": 35,
     "metadata": {},
     "output_type": "execute_result"
    }
   ],
   "source": [
    "ages_dt_2022.head()"
   ]
  },
  {
   "cell_type": "code",
   "execution_count": 36,
   "metadata": {
    "scrolled": false
   },
   "outputs": [
    {
     "name": "stderr",
     "output_type": "stream",
     "text": [
      "<ipython-input-36-04a01d71457e>:2: SettingWithCopyWarning: \n",
      "A value is trying to be set on a copy of a slice from a DataFrame.\n",
      "Try using .loc[row_indexer,col_indexer] = value instead\n",
      "\n",
      "See the caveats in the documentation: https://pandas.pydata.org/pandas-docs/stable/user_guide/indexing.html#returning-a-view-versus-a-copy\n",
      "  ages_dt_2022['weighted age'] = ages_dt_2022['name'].apply(calculate_median_age)\n"
     ]
    },
    {
     "data": {
      "text/html": [
       "<div>\n",
       "<style scoped>\n",
       "    .dataframe tbody tr th:only-of-type {\n",
       "        vertical-align: middle;\n",
       "    }\n",
       "\n",
       "    .dataframe tbody tr th {\n",
       "        vertical-align: top;\n",
       "    }\n",
       "\n",
       "    .dataframe thead th {\n",
       "        text-align: right;\n",
       "    }\n",
       "</style>\n",
       "<table border=\"1\" class=\"dataframe\">\n",
       "  <thead>\n",
       "    <tr style=\"text-align: right;\">\n",
       "      <th></th>\n",
       "      <th>tract</th>\n",
       "      <th>yr_id</th>\n",
       "      <th>name</th>\n",
       "      <th>population</th>\n",
       "      <th>weighted age</th>\n",
       "    </tr>\n",
       "  </thead>\n",
       "  <tbody>\n",
       "    <tr>\n",
       "      <th>24820</th>\n",
       "      <td>201.05</td>\n",
       "      <td>2022</td>\n",
       "      <td>Under 5</td>\n",
       "      <td>207</td>\n",
       "      <td>5.0</td>\n",
       "    </tr>\n",
       "    <tr>\n",
       "      <th>24821</th>\n",
       "      <td>201.05</td>\n",
       "      <td>2022</td>\n",
       "      <td>5 to 9</td>\n",
       "      <td>229</td>\n",
       "      <td>7.0</td>\n",
       "    </tr>\n",
       "    <tr>\n",
       "      <th>24822</th>\n",
       "      <td>201.05</td>\n",
       "      <td>2022</td>\n",
       "      <td>10 to 14</td>\n",
       "      <td>204</td>\n",
       "      <td>12.0</td>\n",
       "    </tr>\n",
       "    <tr>\n",
       "      <th>24823</th>\n",
       "      <td>201.05</td>\n",
       "      <td>2022</td>\n",
       "      <td>15 to 17</td>\n",
       "      <td>92</td>\n",
       "      <td>16.0</td>\n",
       "    </tr>\n",
       "    <tr>\n",
       "      <th>24824</th>\n",
       "      <td>201.05</td>\n",
       "      <td>2022</td>\n",
       "      <td>18 and 19</td>\n",
       "      <td>36</td>\n",
       "      <td>18.5</td>\n",
       "    </tr>\n",
       "  </tbody>\n",
       "</table>\n",
       "</div>"
      ],
      "text/plain": [
       "        tract  yr_id       name  population  weighted age\n",
       "24820  201.05   2022    Under 5         207           5.0\n",
       "24821  201.05   2022     5 to 9         229           7.0\n",
       "24822  201.05   2022   10 to 14         204          12.0\n",
       "24823  201.05   2022   15 to 17          92          16.0\n",
       "24824  201.05   2022  18 and 19          36          18.5"
      ]
     },
     "execution_count": 36,
     "metadata": {},
     "output_type": "execute_result"
    }
   ],
   "source": [
    "# Apply the revised function to the 'name' column to create 'weighted age'\n",
    "ages_dt_2022['weighted age'] = ages_dt_2022['name'].apply(calculate_median_age)\n",
    "ages_dt_2022.head()"
   ]
  },
  {
   "cell_type": "markdown",
   "metadata": {},
   "source": [
    "instead of household use: population instead of income use weighted age"
   ]
  },
  {
   "cell_type": "code",
   "execution_count": 37,
   "metadata": {},
   "outputs": [
    {
     "name": "stderr",
     "output_type": "stream",
     "text": [
      "<ipython-input-37-0324401c58c8>:2: SettingWithCopyWarning: \n",
      "A value is trying to be set on a copy of a slice from a DataFrame.\n",
      "Try using .loc[row_indexer,col_indexer] = value instead\n",
      "\n",
      "See the caveats in the documentation: https://pandas.pydata.org/pandas-docs/stable/user_guide/indexing.html#returning-a-view-versus-a-copy\n",
      "  ages_dt_2022['cumulative_frequency'] = ages_dt_2022['population'].cumsum()\n"
     ]
    }
   ],
   "source": [
    "# Assume median_income_2022_dt is your DataFrame with 'households' and 'income' columns\n",
    "ages_dt_2022['cumulative_frequency'] = ages_dt_2022['population'].cumsum()\n",
    "total_population = ages_dt_2022['population'].sum()\n",
    "median_position = total_population / 2\n",
    "median_class_interval = ages_dt_2022[ages_dt_2022['cumulative_frequency'] >= median_position].iloc[0]\n",
    "\n",
    "# Calculate the lower boundary of the median class interval\n",
    "L = (median_class_interval['weighted age'] - \n",
    "     (median_class_interval['weighted age'] - \n",
    "      ages_dt_2022[ages_dt_2022['weighted age'] < median_class_interval['weighted age']]['weighted age'].max()) / 2)\n",
    "\n",
    "# If the median class is the first class, L would be 0 (or another reasonable assumption)\n",
    "F = ages_dt_2022[ages_dt_2022['weighted age'] < median_class_interval['weighted age']]['population'].sum()\n",
    "f = median_class_interval['population']\n",
    "W = (ages_dt_2022['weighted age'].iloc[1] - ages_dt_2022['weighted age'].iloc[0])\n",
    "median_age_dt = L + ((median_position - F) / f) * W\n",
    "median_age_dt = median_income"
   ]
  },
  {
   "cell_type": "markdown",
   "metadata": {},
   "source": [
    "# Median Age of Downtown Employment Center"
   ]
  },
  {
   "cell_type": "code",
   "execution_count": 38,
   "metadata": {},
   "outputs": [
    {
     "data": {
      "text/plain": [
       "84351"
      ]
     },
     "execution_count": 38,
     "metadata": {},
     "output_type": "execute_result"
    }
   ],
   "source": [
    "median_age_dt"
   ]
  },
  {
   "cell_type": "markdown",
   "metadata": {},
   "source": [
    "# Median Age for Region"
   ]
  },
  {
   "cell_type": "code",
   "execution_count": 39,
   "metadata": {},
   "outputs": [],
   "source": [
    "ages_region_2022 = ages_region[ages_region['yr_id'] == 2022]"
   ]
  },
  {
   "cell_type": "code",
   "execution_count": 40,
   "metadata": {},
   "outputs": [
    {
     "name": "stderr",
     "output_type": "stream",
     "text": [
      "<ipython-input-40-38ea213ca32f>:1: SettingWithCopyWarning: \n",
      "A value is trying to be set on a copy of a slice from a DataFrame.\n",
      "Try using .loc[row_indexer,col_indexer] = value instead\n",
      "\n",
      "See the caveats in the documentation: https://pandas.pydata.org/pandas-docs/stable/user_guide/indexing.html#returning-a-view-versus-a-copy\n",
      "  ages_region_2022['weighted age'] = ages_region_2022['name'].apply(calculate_median_age)\n"
     ]
    }
   ],
   "source": [
    "ages_region_2022['weighted age'] = ages_region_2022['name'].apply(calculate_median_age)\n",
    "ages_region_2022 = ages_region_2022.groupby('weighted age').sum().reset_index()"
   ]
  },
  {
   "cell_type": "code",
   "execution_count": 41,
   "metadata": {},
   "outputs": [
    {
     "data": {
      "text/html": [
       "<div>\n",
       "<style scoped>\n",
       "    .dataframe tbody tr th:only-of-type {\n",
       "        vertical-align: middle;\n",
       "    }\n",
       "\n",
       "    .dataframe tbody tr th {\n",
       "        vertical-align: top;\n",
       "    }\n",
       "\n",
       "    .dataframe thead th {\n",
       "        text-align: right;\n",
       "    }\n",
       "</style>\n",
       "<table border=\"1\" class=\"dataframe\">\n",
       "  <thead>\n",
       "    <tr style=\"text-align: right;\">\n",
       "      <th></th>\n",
       "      <th>weighted age</th>\n",
       "      <th>tract</th>\n",
       "      <th>yr_id</th>\n",
       "      <th>population</th>\n",
       "    </tr>\n",
       "  </thead>\n",
       "  <tbody>\n",
       "    <tr>\n",
       "      <th>0</th>\n",
       "      <td>5.0</td>\n",
       "      <td>94131.46</td>\n",
       "      <td>1488192</td>\n",
       "      <td>187752</td>\n",
       "    </tr>\n",
       "    <tr>\n",
       "      <th>1</th>\n",
       "      <td>7.0</td>\n",
       "      <td>94131.46</td>\n",
       "      <td>1488192</td>\n",
       "      <td>212233</td>\n",
       "    </tr>\n",
       "    <tr>\n",
       "      <th>2</th>\n",
       "      <td>12.0</td>\n",
       "      <td>94131.46</td>\n",
       "      <td>1488192</td>\n",
       "      <td>211494</td>\n",
       "    </tr>\n",
       "    <tr>\n",
       "      <th>3</th>\n",
       "      <td>16.0</td>\n",
       "      <td>94131.46</td>\n",
       "      <td>1488192</td>\n",
       "      <td>125808</td>\n",
       "    </tr>\n",
       "    <tr>\n",
       "      <th>4</th>\n",
       "      <td>18.5</td>\n",
       "      <td>94131.46</td>\n",
       "      <td>1488192</td>\n",
       "      <td>88334</td>\n",
       "    </tr>\n",
       "  </tbody>\n",
       "</table>\n",
       "</div>"
      ],
      "text/plain": [
       "   weighted age     tract    yr_id  population\n",
       "0           5.0  94131.46  1488192      187752\n",
       "1           7.0  94131.46  1488192      212233\n",
       "2          12.0  94131.46  1488192      211494\n",
       "3          16.0  94131.46  1488192      125808\n",
       "4          18.5  94131.46  1488192       88334"
      ]
     },
     "execution_count": 41,
     "metadata": {},
     "output_type": "execute_result"
    }
   ],
   "source": [
    "ages_region_2022.head()"
   ]
  },
  {
   "cell_type": "code",
   "execution_count": 42,
   "metadata": {},
   "outputs": [],
   "source": [
    "# Assume median_income_2022_dt is your DataFrame with 'households' and 'income' columns\n",
    "ages_region_2022['cumulative_frequency'] = ages_region_2022['population'].cumsum()\n",
    "total_population = ages_region_2022['population'].sum()\n",
    "median_position = total_population / 2\n",
    "median_class_interval = ages_region_2022[ages_region_2022['cumulative_frequency'] >= median_position].iloc[0]\n",
    "\n",
    "# Calculate the lower boundary of the median class interval\n",
    "L = (median_class_interval['weighted age'] - \n",
    "     (median_class_interval['weighted age'] - \n",
    "      ages_region_2022[ages_region_2022['weighted age'] < median_class_interval['weighted age']]['weighted age'].max()) / 2)\n",
    "\n",
    "# If the median class is the first class, L would be 0 (or another reasonable assumption)\n",
    "F = ages_region_2022[ages_region_2022['weighted age'] < median_class_interval['weighted age']]['population'].sum()\n",
    "f = median_class_interval['population']\n",
    "W = (ages_region_2022['weighted age'].iloc[1] - ages_region_2022['weighted age'].iloc[0])\n",
    "median_age_region = L + ((median_position - F) / f) * W\n",
    "median_age_region = median_income"
   ]
  },
  {
   "cell_type": "markdown",
   "metadata": {},
   "source": [
    "# Median Age of Region"
   ]
  },
  {
   "cell_type": "code",
   "execution_count": 43,
   "metadata": {},
   "outputs": [
    {
     "data": {
      "text/plain": [
       "84351"
      ]
     },
     "execution_count": 43,
     "metadata": {},
     "output_type": "execute_result"
    }
   ],
   "source": [
    "median_age_region"
   ]
  },
  {
   "cell_type": "code",
   "execution_count": null,
   "metadata": {},
   "outputs": [],
   "source": []
  }
 ],
 "metadata": {
  "kernelspec": {
   "display_name": "Python 3",
   "language": "python",
   "name": "python3"
  },
  "language_info": {
   "codemirror_mode": {
    "name": "ipython",
    "version": 3
   },
   "file_extension": ".py",
   "mimetype": "text/x-python",
   "name": "python",
   "nbconvert_exporter": "python",
   "pygments_lexer": "ipython3",
   "version": "3.8.5"
  }
 },
 "nbformat": 4,
 "nbformat_minor": 2
}
